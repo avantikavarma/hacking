import pandas as pd
import panel as pn
import hvplot.pandas
from PIL import Image

pn.extension()

# Load data
df_gender = pd.read_csv('/Users/shivanivarma/Downloads/cy_gender.csv')
df_race = pd.read_csv('/Users/shivanivarma/Downloads/cy_race.csv')
df_age = pd.read_csv('/Users/shivanivarma/Downloads/cy_age.csv')

# --- Gender Data Cleanup ---
df_gender = df_gender.fillna(0)

def simplify_gender(g):
    g_lower = str(g).lower()
    if any(keyword in g_lower for keyword in ['non-binary', 'culturally', 'different identity']):
        return 'Other'
    else:
        return g

df_gender['GENDER'] = df_gender['GENDER'].apply(simplify_gender).str.title()

# --- Age Data Cleanup ---
df_age['EXPERIENCING_HOMELESSNESS_CNT'] = pd.to_numeric(df_age['EXPERIENCING_HOMELESSNESS_CNT'], errors='coerce')

# --- Gender Plot Widgets ---
year_slider = pn.widgets.IntSlider(name='Year', start=df_gender['CALENDAR_YEAR'].min(), end=df_gender['CALENDAR_YEAR'].max(), step=1)

@pn.depends(year_slider)
def plot_gender(year):
    filtered_df = df_gender[df_gender['CALENDAR_YEAR'] == year]
    filtered_df = filtered_df[filtered_df['EXPERIENCING_HOMELESSNESS_CNT'] != '*']
    filtered_df['EXPERIENCING_HOMELESSNESS_CNT'] = pd.to_numeric(filtered_df['EXPERIENCING_HOMELESSNESS_CNT'], errors='coerce').fillna(0)

    return filtered_df.hvplot.bar(
        x='GENDER',
        y='EXPERIENCING_HOMELESSNESS_CNT',
        title=f'Homelessness Counts by Gender in {year}',
        rot=45,
        width=700,
        height=400
    )

# --- Race Plot Widgets ---
location_widget = pn.widgets.Select(
    name='Location',
    options=sorted(df_race['LOCATION_ID'].unique().tolist()),
    value='All'
)

race_widget = pn.widgets.MultiChoice(
    name='Race/Ethnicity',
    options=sorted(df_race['RACE_ETHNICITY'].unique().tolist()),
    value=['Black, African American or African', 'White']
)

mode_widget = pn.widgets.RadioButtonGroup(
    name='Mode',
    options=['Alone', 'In_Combination', 'Both'],
    value='Alone'
)

def plot_race(location, selected_races, mode):
    filtered = df_race[df_race['LOCATION_ID'] == location]
    if mode != 'Both':
        filtered = filtered[filtered['ALONE_OR_IN_COMBINATION'] == mode]
    filtered = filtered[filtered['RACE_ETHNICITY'].isin(selected_races)]
    filtered = filtered[filtered['CNT'].apply(lambda x: str(x).isdigit())]
    filtered['CNT'] = filtered['CNT'].astype(int)

    return filtered.hvplot.line(
        x='CALENDAR_YEAR',
        y='CNT',
        by='RACE_ETHNICITY',
        title=f'Trends in Homelessness by Race ({location})',
        height=400,
        width=700
    ).opts(
        legend_position='top_right',
        legend_offset=(20, 0)
    )

interactive_race_plot = pn.bind(plot_race, location=location_widget, selected_races=race_widget, mode=mode_widget)

# --- Age Plot Widgets ---
age_location_widget = pn.widgets.Select(
    name='Select Location',
    options=['All'] + sorted(df_age[df_age['LOCATION_ID'] != 'All']['LOCATION_ID'].unique().tolist()),
    value='All'
)

age_year_widget = pn.widgets.IntSlider(
    name='Select Year',
    start=df_age['CALENDAR_YEAR'].min(),
    end=df_age['CALENDAR_YEAR'].max(),
    step=1,
    value=df_age['CALENDAR_YEAR'].max()
)

@pn.depends(age_location_widget, age_year_widget)
def plot_age_distribution(location, year):
    filtered = df_age[df_age['CALENDAR_YEAR'] == year]
    if location != 'All':
        filtered = filtered[filtered['LOCATION_ID'] == location]

    age_groups = ['Under 18', '18-24', '25-34', '35-44', '45-54', '55-64', '65+']
    filtered = filtered[filtered['AGE_GROUP_PUBLIC'].isin(age_groups)]
    age_data = filtered.groupby('AGE_GROUP_PUBLIC')['EXPERIENCING_HOMELESSNESS_CNT'].sum().reset_index()
    age_data['AGE_GROUP_PUBLIC'] = pd.Categorical(age_data['AGE_GROUP_PUBLIC'], categories=age_groups, ordered=True)
    age_data = age_data.sort_values('AGE_GROUP_PUBLIC')

    bar = age_data.hvplot.bar(
        x='AGE_GROUP_PUBLIC',
        y='EXPERIENCING_HOMELESSNESS_CNT',
        rot=45,
        height=400,
        width=700,
        title=f'Count by Age Group ({location}, {year})',
        color='AGE_GROUP_PUBLIC'
    ).opts(xlabel='Age Group', ylabel='Count', toolbar=None)

    return bar

# --- Header with Full Background Color and Logo on the Left ---
header = pn.Row(
    pn.pane.PNG('/Users/shivanivarma/Downloads/logo_fourth_and_hope.png', height=70, sizing_mode='fixed'),
    pn.Column(
        pn.pane.HTML("""
            <div style="
                background-color: #9CAF88;
                color: white;
                padding: 20px;
                font-size: 28px;
                font-family: Cambria, serif;
                font-weight: bold;
                text-align: center;  /* Center the title */
                width: 290%;
            ">
                    Fourth & Hope Data Dashboard       
            </div>
        """),
        align='center',  # Center the content inside the column
        sizing_mode='stretch_width'
    ),
    sizing_mode='stretch_width',
    height=100
)

# --- Sidebar Content Style ---
sidebar_style = {
    'background': '#9CAF88',
    'padding': '15px',
    'color': 'white',
    'font-family': 'Cambria, serif',
    'font-size': '14px',
    'border-radius': '5px',
    'height': '100%',
    'margin-top': '0',  # To align with header
}

sidebar_html = pn.pane.HTML(f"""
    <div style="{'; '.join([f'{k}: {v}' for k, v in sidebar_style.items()])}">
        <p style="text-align: center; font-size: 16px;"><b>Welcome to the Fourth & Hope Data Dashboard!</b></p>
        <p><b>Visualizations:</b><br>
        - Gender Distribution<br>
        - Racial Trends<br>
        - Age Analysis</p>
    </div>
""", sizing_mode='stretch_height')

sidebar = pn.Column(sidebar_html, width=250, sizing_mode='stretch_height')

# --- Content Area ---
content_area = pn.Column(
    year_slider,
    plot_gender,
    pn.layout.Divider(),
    pn.pane.HTML("<h2 style='font-family: Cambria; font-size: 20px;'>Race and Ethnicity Trends</h2>"),
    pn.Row(location_widget, mode_widget),
    race_widget,
    interactive_race_plot,
    pn.layout.Divider(),
    pn.pane.HTML("<h2 style='font-family: Cambria; font-size: 20px;'>Age Distribution Analysis</h2>"),
    pn.Row(age_location_widget, age_year_widget),
    plot_age_distribution,
    sizing_mode='stretch_height'
)

# --- Main Layout (Header on top, full-height sidebars) ---
main_body = pn.Row(
    sidebar,
    pn.Column(content_area, sizing_mode='stretch_height', width=950),
    sidebar.clone(),
    sizing_mode='stretch_height'
)

dashboard_layout = pn.Column(header, main_body, sizing_mode='stretch_both')
dashboard_layout.servable()
